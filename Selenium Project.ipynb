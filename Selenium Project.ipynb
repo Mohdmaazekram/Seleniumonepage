{
 "cells": [
  {
   "cell_type": "code",
   "execution_count": 11,
   "id": "49ce2ca3",
   "metadata": {
    "scrolled": true
   },
   "outputs": [],
   "source": [
    "from selenium import webdriver\n",
    "from selenium.webdriver.chrome.service import Service\n",
    "from selenium.webdriver.common.by import By\n",
    "from selenium.webdriver.chrome.options import Options\n",
    "\n",
    "# Set up Chrome WebDriver\n",
    "# webdriver_service = Service('path/to/chromedriver')  # Replace with the path to your chromedriver executable\n",
    "# webdriver_options = Options()\n",
    "# webdriver_options.add_argument('--headless')  # Use headless mode if you don't want the browser to open\n",
    "# driver = webdriver.Chrome(service=webdriver_service, options=webdriver_options)\n",
    "\n",
    "# Define the base URL and the number of pages you want to scrape\n",
    "# base_url = \"https://webscraper.io/test-sites/e-commerce/static/computers/laptops?page={}\"\n",
    "# num_pages = 3  # Specify the number of pages you want to scrape\n",
    "\n",
    "# # Iterate over each page\n",
    "# for page in range(1, num_pages + 1):\n",
    "#     url = base_url.format(page)\n",
    "#     driver.get(url)\n",
    "    \n",
    "\n",
    "#     All_boxes_link = driver.find_elements(By.CLASS_NAME, \"thumbnail\")\n",
    "#     import pandas as pd\n",
    "#     all_page_lst = []\n",
    "#     for box in All_boxes_link:\n",
    "#         name = box.find_element(By.CLASS_NAME, \"title\").text.strip()\n",
    "#         price = box.find_element(By.CLASS_NAME, \"price\").text.strip()\n",
    "#         description = box.find_element(By.CLASS_NAME, \"description\").text.strip()\n",
    "#         stars = box.find_element(By.CLASS_NAME, \"ratings\").text\n",
    "        \n",
    "#         all_page_info = {                      # Store all keys and values in one dictionary.\n",
    "#                 \"Name\": name,\n",
    "#                 \"Price\": price,\n",
    "#                 \"Description\": description,\n",
    "#                 \"Rating\": stars}\n",
    "\n",
    "#         all_page_lst.append(all_page_info)     # Taking all_page_info in empty list.\n",
    "#         print(all_page_lst)"
   ]
  },
  {
   "cell_type": "code",
   "execution_count": 19,
   "id": "27e2a91b",
   "metadata": {},
   "outputs": [],
   "source": [
    "# pd.DataFrame(all_page_lst)"
   ]
  },
  {
   "cell_type": "code",
   "execution_count": 27,
   "id": "f1c34c6c",
   "metadata": {},
   "outputs": [
    {
     "name": "stdout",
     "output_type": "stream",
     "text": [
      "Enter the Number : 5\n",
      "https://webscraper.io/test-sites/e-commerce/static/computers/laptops?page=1\n",
      "https://webscraper.io/test-sites/e-commerce/static/computers/laptops?page=2\n",
      "https://webscraper.io/test-sites/e-commerce/static/computers/laptops?page=3\n",
      "https://webscraper.io/test-sites/e-commerce/static/computers/laptops?page=4\n",
      "https://webscraper.io/test-sites/e-commerce/static/computers/laptops?page=5\n"
     ]
    }
   ],
   "source": [
    "webdriver_service = Service('path/to/chromedriver')  # Replace with the path to your chromedriver executable\n",
    "webdriver_options = Options()\n",
    "webdriver_options.add_argument('--headless')  # Use headless mode if you don't want the browser to open\n",
    "driver = webdriver.Chrome(service=webdriver_service, options=webdriver_options)\n",
    "\n",
    "base_url = \"https://webscraper.io/test-sites/e-commerce/static/computers/laptops?page={}\"\n",
    "num_pages = int(input(\"Enter the Number : \"))\n",
    "for page in range(1, num_pages + 1):\n",
    "    url = base_url.format(page)\n",
    "    print(url)\n",
    "    \n",
    "    All_boxes_link = driver.find_elements(By.CLASS_NAME, \"thumbnail\")\n",
    "    \n",
    "    import pandas as pd\n",
    "    all_page_lst = []\n",
    "    for box in All_boxes_link:\n",
    "        name = box.find_element(By.CLASS_NAME, \"title\").text.strip()\n",
    "        price = box.find_element(By.CLASS_NAME, \"price\").text.strip()\n",
    "        description = box.find_element(By.CLASS_NAME, \"description\").text.strip()\n",
    "        stars = box.find_element(By.CLASS_NAME, \"ratings\").text"
   ]
  },
  {
   "cell_type": "code",
   "execution_count": 20,
   "id": "394fb759",
   "metadata": {},
   "outputs": [],
   "source": [
    "All_boxes_link = driver.find_elements(By.CLASS_NAME, \"thumbnail\")"
   ]
  },
  {
   "cell_type": "code",
   "execution_count": 25,
   "id": "5213f0c0",
   "metadata": {},
   "outputs": [],
   "source": [
    "import pandas as pd\n",
    "all_page_lst = []\n",
    "for box in All_boxes_link:\n",
    "    name = box.find_element(By.CLASS_NAME, \"title\").text.strip()\n",
    "    price = box.find_element(By.CLASS_NAME, \"price\").text.strip()\n",
    "    description = box.find_element(By.CLASS_NAME, \"description\").text.strip()\n",
    "    stars = box.find_element(By.CLASS_NAME, \"ratings\").text\n",
    "    \n",
    "    print(name)"
   ]
  },
  {
   "cell_type": "code",
   "execution_count": 24,
   "id": "22a7ecf4",
   "metadata": {},
   "outputs": [
    {
     "name": "stdout",
     "output_type": "stream",
     "text": [
      "Acer Aspire A515...\n"
     ]
    }
   ],
   "source": []
  },
  {
   "cell_type": "markdown",
   "id": "380e815c",
   "metadata": {},
   "source": [
    "Steps to Perform Selenium :-\\\n",
    "    1) pip install selenium\\\n",
    "    2) pip list to check selenium download or not\\\n",
    "    3) download WebDriver for Chrome - Downloads from Chrome\\\n",
    "    4) Check the Chrome Version and Accordingly Download, Then Click on ChromeDriver 106.0.5249.61 (Latest)\\\n",
    "    5) Download chromedriver_win32.zip\\\n",
    "    6) go to File Explorer go to Download Click to Extract the selenium file\\\n",
    "    7) right click on extracted file and go to properties go to security and copy the PATH\\\n",
    "    8) from selenium import webdriver , from selenium.webdriver.chrome.service import Service , \\\n",
    "        driver = webdriver.Chrome(service=Service(executable_path=r\"C:\\Users\\asus\\Downloads\\chromedriver_114.exe\"))\\\n",
    "    9) driver.get(\"https://www.flipkart.com/\")\\\n",
    "    \n",
    "    for not Download again and again driver then Download one more library webdriver-manager (pip install webdriver-manager)\n",
    "    steps to do webdriver-manager\n",
    "    1) pip install webdriver-manager\n",
    "    2) from selenium import webdriver\n",
    "    3) from selenium.webdriver.chrome.service import Service\n",
    "    4) from webdriver_manager.chrome import ChromeDriverManager\n",
    "    5) driver = webdriver.Chrome(service=Service(ChromeDriverManager().install()))\n",
    "       driver = webdriver.Chrome() and remove service=Service(ChromeDriverManager().install())\n",
    "       Then Comment Out the (3),(4)\n",
    "    6) driver.get(\"https://www.flipkart.com/\")"
   ]
  },
  {
   "cell_type": "code",
   "execution_count": 1,
   "id": "6bc310b3",
   "metadata": {},
   "outputs": [],
   "source": [
    "# pip install selenium"
   ]
  },
  {
   "cell_type": "code",
   "execution_count": 2,
   "id": "d6c4d64d",
   "metadata": {},
   "outputs": [],
   "source": [
    "# pip list                                             To Check selenium down or not"
   ]
  },
  {
   "cell_type": "code",
   "execution_count": 3,
   "id": "1268aba0",
   "metadata": {},
   "outputs": [],
   "source": [
    "# import selenium\n",
    "# from selenium import webdriver"
   ]
  },
  {
   "cell_type": "code",
   "execution_count": 4,
   "id": "efcc4889",
   "metadata": {},
   "outputs": [],
   "source": [
    "# from selenium.webdriver.chrome.service import Service"
   ]
  },
  {
   "cell_type": "code",
   "execution_count": 5,
   "id": "55438507",
   "metadata": {},
   "outputs": [],
   "source": [
    "# driver = webdriver.Chrome(service=Service(executable_path=r\"C:\\Users\\asus\\Downloads\\chromedriver_114.exe\"))\n",
    "# driver.get(\"https://www.flipkart.com/\")"
   ]
  },
  {
   "cell_type": "code",
   "execution_count": 6,
   "id": "ee96d842",
   "metadata": {},
   "outputs": [],
   "source": [
    "# pip install webdriver-manager"
   ]
  },
  {
   "cell_type": "code",
   "execution_count": 7,
   "id": "f29f9482",
   "metadata": {},
   "outputs": [],
   "source": [
    "# from webdriver_manager.chrome import ChromeDriverManager"
   ]
  },
  {
   "cell_type": "code",
   "execution_count": 8,
   "id": "6474d894",
   "metadata": {},
   "outputs": [],
   "source": [
    "# driver = webdriver.Chrome()\n",
    "# driver.get(\"https://webscraper.io/test-sites/e-commerce/allinone\")\n",
    "# driver.get(\"https://www.google.com/\")\n",
    "# from selenium.webdriver.common.by import By\n",
    "# from selenium.webdriver.common.keys import Keys\n",
    "# import time\n",
    "# search_box = driver.find_element(By.ID, \"APjFqb\")\n",
    "# search_box.send_keys(\"Mustang GTA\")\n",
    "# search_box.send_keys(Keys.ENTER)\n",
    "# time.sleep(2)\n",
    "# youtube_link = driver.find_element(By.XPATH, '//*[@id=\"rso\"]/div[5]/div/div/div/div/div/div[1]/div[1]/div/a/h3')\n",
    "# youtube_link.send_keys(Keys.ENTER)"
   ]
  },
  {
   "cell_type": "code",
   "execution_count": 9,
   "id": "2164091e",
   "metadata": {},
   "outputs": [],
   "source": [
    "from selenium.webdriver.common.by import By\n",
    "from selenium.webdriver.common.keys import Keys\n",
    "import time\n",
    "from selenium.webdriver.chrome.options import Options"
   ]
  },
  {
   "cell_type": "code",
   "execution_count": 10,
   "id": "dd6b64b5",
   "metadata": {},
   "outputs": [],
   "source": [
    "# driver = webdriver.Chrome()\n",
    "# driver.maximize_window()\n",
    "# driver.get(\"https://webscraper.io/test-sites/e-commerce/static/\")\n",
    "# time.sleep(1)\n",
    "# open_link = driver.find_element(By.XPATH, '//*[@id=\"side-menu\"]/li[3]/a')\n",
    "# open_link.click()\n",
    "# time.sleep(1)\n",
    "# click_laptop = driver.find_element(By.XPATH, '//*[@id=\"side-menu\"]/li[3]/ul/li[2]/a')\n",
    "# click_laptop.click()\n",
    "# #aji=driver.find_elements(By.CLASS_NAME,'thumbnail')\n",
    "# time.sleep(1)\n",
    "\n",
    "# for i in range(1,2):\n",
    "#     print(i)\n",
    "#     a=driver.find_elements(By.CLASS_NAME,'thumbnail')\n",
    "#     print(a.find_element(By.))\n",
    "    \n",
    "    \n",
    "# driver.find_element(By.XPATH,'/html/body/div[1]/div[3]/div/div[2]/div/div[1]/div/div[1]/h4[2]/a').click()\n",
    "# a=driver.find_element(By.XPATH,'/html/body/div[1]/div[3]/div/div[2]/div/div/div[2]/div[1]/h4[2]').text\n",
    "# B=driver.find_element(By.XPATH,\"//p[@class='description']\").text\n",
    "# c=driver.find_element(By.XPATH,\"//h4[@class='pull-right price']\").text\n",
    "# d=driver.find_element(By.XPATH,\"//div[@class='ratings']\").text\n",
    "# print(a)\n",
    "# print(B)\n",
    "# print(c)\n",
    "# print(d)"
   ]
  },
  {
   "cell_type": "code",
   "execution_count": 11,
   "id": "1ce3ac05",
   "metadata": {},
   "outputs": [],
   "source": [
    "import selenium\n",
    "from selenium import webdriver"
   ]
  },
  {
   "cell_type": "code",
   "execution_count": 12,
   "id": "99b2a596",
   "metadata": {},
   "outputs": [],
   "source": [
    "# sd"
   ]
  },
  {
   "cell_type": "code",
   "execution_count": 13,
   "id": "6a52fa1c",
   "metadata": {},
   "outputs": [],
   "source": [
    "driver = webdriver.Chrome()\n",
    "driver.maximize_window()\n",
    "driver.get(\"https://webscraper.io/test-sites/e-commerce/static/\")"
   ]
  },
  {
   "cell_type": "code",
   "execution_count": 14,
   "id": "d6ab227e",
   "metadata": {},
   "outputs": [],
   "source": [
    "time.sleep(1)"
   ]
  },
  {
   "cell_type": "code",
   "execution_count": 15,
   "id": "052c368e",
   "metadata": {},
   "outputs": [],
   "source": [
    "open_link = driver.find_element(By.XPATH, '//*[@id=\"side-menu\"]/li[3]/a')\n",
    "open_link.click()"
   ]
  },
  {
   "cell_type": "code",
   "execution_count": 16,
   "id": "8b18cc88",
   "metadata": {},
   "outputs": [],
   "source": [
    "time.sleep(1)"
   ]
  },
  {
   "cell_type": "code",
   "execution_count": 17,
   "id": "a347fc00",
   "metadata": {},
   "outputs": [],
   "source": [
    "click_laptop = driver.find_element(By.XPATH, '//*[@id=\"side-menu\"]/li[3]/ul/li[2]/a')\n",
    "click_laptop.click()"
   ]
  },
  {
   "cell_type": "code",
   "execution_count": 18,
   "id": "54a33a49",
   "metadata": {},
   "outputs": [],
   "source": [
    "time.sleep(1)"
   ]
  },
  {
   "cell_type": "code",
   "execution_count": null,
   "id": "63133aa9",
   "metadata": {},
   "outputs": [],
   "source": []
  },
  {
   "cell_type": "code",
   "execution_count": 19,
   "id": "aee3a1e4",
   "metadata": {},
   "outputs": [],
   "source": [
    "# driver.find_element(By.XPATH,'/html/body/div[1]/div[3]/div/div[2]/div/div[1]/div/div[1]/h4[2]/a').click()"
   ]
  },
  {
   "cell_type": "code",
   "execution_count": 20,
   "id": "e42e5c0d",
   "metadata": {},
   "outputs": [],
   "source": [
    "# a=driver.find_element(By.XPATH,'/html/body/div[1]/div[3]/div/div[2]/div/div/div[2]/div[1]/h4[2]').text\n",
    "# B=driver.find_element(By.XPATH,\"//p[@class='description']\").text\n",
    "# c=driver.find_element(By.XPATH,\"//h4[@class='pull-right price']\").text\n",
    "# d=driver.find_element(By.XPATH,\"//div[@class='ratings']\").text\n",
    "# print(a)\n",
    "# print(B)\n",
    "# print(c)\n",
    "# print(d)"
   ]
  },
  {
   "cell_type": "code",
   "execution_count": 21,
   "id": "f8a3cd38",
   "metadata": {},
   "outputs": [],
   "source": [
    "# all_boxes = driver.find_element(By.XPATH, \"/html/body/div[1]/div[3]/div\").text\n",
    "# all_boxes"
   ]
  },
  {
   "cell_type": "code",
   "execution_count": 36,
   "id": "f84edfad",
   "metadata": {},
   "outputs": [
    {
     "data": {
      "text/plain": [
       "[<selenium.webdriver.remote.webelement.WebElement (session=\"0ae7d62acb8c214d7429a5edc4df82d8\", element=\"B23F1BF3103A74C923B2EB823A8277FF_element_81\")>,\n",
       " <selenium.webdriver.remote.webelement.WebElement (session=\"0ae7d62acb8c214d7429a5edc4df82d8\", element=\"B23F1BF3103A74C923B2EB823A8277FF_element_82\")>,\n",
       " <selenium.webdriver.remote.webelement.WebElement (session=\"0ae7d62acb8c214d7429a5edc4df82d8\", element=\"B23F1BF3103A74C923B2EB823A8277FF_element_83\")>,\n",
       " <selenium.webdriver.remote.webelement.WebElement (session=\"0ae7d62acb8c214d7429a5edc4df82d8\", element=\"B23F1BF3103A74C923B2EB823A8277FF_element_84\")>,\n",
       " <selenium.webdriver.remote.webelement.WebElement (session=\"0ae7d62acb8c214d7429a5edc4df82d8\", element=\"B23F1BF3103A74C923B2EB823A8277FF_element_85\")>,\n",
       " <selenium.webdriver.remote.webelement.WebElement (session=\"0ae7d62acb8c214d7429a5edc4df82d8\", element=\"B23F1BF3103A74C923B2EB823A8277FF_element_86\")>]"
      ]
     },
     "execution_count": 36,
     "metadata": {},
     "output_type": "execute_result"
    }
   ],
   "source": [
    "All_boxes_link = driver.find_elements(By.CLASS_NAME, \"thumbnail\")\n",
    "All_boxes_link"
   ]
  },
  {
   "cell_type": "code",
   "execution_count": 23,
   "id": "76159ce7",
   "metadata": {},
   "outputs": [],
   "source": [
    "# ppp = All_boxes_link[0]"
   ]
  },
  {
   "cell_type": "code",
   "execution_count": 24,
   "id": "1e7a6bcc",
   "metadata": {},
   "outputs": [],
   "source": [
    "# ppp1 = ppp.find_elements(By.TAG_NAME, \"h4\")[-1]"
   ]
  },
  {
   "cell_type": "code",
   "execution_count": 25,
   "id": "9fec9d21",
   "metadata": {},
   "outputs": [],
   "source": [
    "# ppp2 = ppp1.find_element(By.TAG_NAME, 'a')"
   ]
  },
  {
   "cell_type": "code",
   "execution_count": 26,
   "id": "094ff0ed",
   "metadata": {},
   "outputs": [],
   "source": [
    "listoflinks = []\n",
    "for el in All_boxes_link:\n",
    "    ppp1 = el.find_elements(By.TAG_NAME, \"h4\")[-1]\n",
    "    ppp2 = ppp1.find_element(By.TAG_NAME, \"a\")\n",
    "    listoflinks.append(ppp2.get_property('href'))"
   ]
  },
  {
   "cell_type": "code",
   "execution_count": 35,
   "id": "48675ee1",
   "metadata": {},
   "outputs": [
    {
     "data": {
      "text/plain": [
       "['https://webscraper.io/test-sites/e-commerce/static/product/516',\n",
       " 'https://webscraper.io/test-sites/e-commerce/static/product/517',\n",
       " 'https://webscraper.io/test-sites/e-commerce/static/product/518',\n",
       " 'https://webscraper.io/test-sites/e-commerce/static/product/519',\n",
       " 'https://webscraper.io/test-sites/e-commerce/static/product/520',\n",
       " 'https://webscraper.io/test-sites/e-commerce/static/product/521']"
      ]
     },
     "execution_count": 35,
     "metadata": {},
     "output_type": "execute_result"
    }
   ],
   "source": [
    "listoflinks"
   ]
  },
  {
   "cell_type": "code",
   "execution_count": 28,
   "id": "63893cd9",
   "metadata": {},
   "outputs": [],
   "source": [
    "# time.sleep(2)"
   ]
  },
  {
   "cell_type": "code",
   "execution_count": null,
   "id": "643c5919",
   "metadata": {},
   "outputs": [],
   "source": []
  },
  {
   "cell_type": "code",
   "execution_count": 29,
   "id": "0757b10f",
   "metadata": {},
   "outputs": [],
   "source": [
    "# listoflinks=[]\n",
    "# condition = True\n",
    "# while condition:\n",
    "#     All_boxes_link = driver.find_elements(By.CLASS_NAME, \"thumbnail\")\n",
    "#     for el in All_boxes_link:\n",
    "#         ppp1 = el.find_elements(By.TAG_NAME, \"h4\")[-1]\n",
    "#         ppp2 = ppp1.find_element(By.TAG_NAME, \"a\")\n",
    "#         listoflinks.append(ppp2.get_property('href'))\n",
    "#     try:\n",
    "#         driver.find_element(By.XPATH, \"/html/body/div[1]/div[3]/div/div[2]/nav/ul/li[15]/a\").click()\n",
    "#     except:\n",
    "#         condition = False"
   ]
  },
  {
   "cell_type": "code",
   "execution_count": 30,
   "id": "a700b931",
   "metadata": {},
   "outputs": [],
   "source": [
    "# /html/body/div[1]/div[3]/div/div[2]/nav/ul/li[15]/a\n",
    "# /html/body/div[1]/div[3]/div/div[2]/nav/ul/li[3]/a"
   ]
  },
  {
   "cell_type": "code",
   "execution_count": 31,
   "id": "44c0342d",
   "metadata": {},
   "outputs": [],
   "source": [
    "# listoflinks"
   ]
  },
  {
   "cell_type": "code",
   "execution_count": 32,
   "id": "bf0ea5a6",
   "metadata": {},
   "outputs": [],
   "source": [
    "# driver.find_element(By.XPATH, \"/html/body/div[1]/div[3]/div/div[2]/nav/ul/li[15]/a\").click()"
   ]
  },
  {
   "cell_type": "code",
   "execution_count": 33,
   "id": "8696f6dc",
   "metadata": {},
   "outputs": [],
   "source": [
    "# driver.find_element(By.XPATH, \"/html/body/div[1]/div[3]/div/div[2]/nav/ul/li[15]/a\").click()"
   ]
  },
  {
   "cell_type": "code",
   "execution_count": 1,
   "id": "8c56a786",
   "metadata": {},
   "outputs": [],
   "source": [
    "# all_urls = []                             # Next page click button\n",
    "# for i in range(2,7):\n",
    "#     time.sleep(2)\n",
    "#     Num = driver.find_element(By.XPATH, \"/html/body/div[1]/div[3]/div/div[2]/nav/ul/li[3]/a\").click()\n",
    "#     all_urls.append(Num)\n",
    "#     print(all_urls)"
   ]
  },
  {
   "cell_type": "code",
   "execution_count": null,
   "id": "3bb7d4de",
   "metadata": {},
   "outputs": [],
   "source": []
  },
  {
   "cell_type": "code",
   "execution_count": null,
   "id": "c365093b",
   "metadata": {},
   "outputs": [],
   "source": [
    "# listoflinks=[]\n",
    "# condition = True\n",
    "# while condition:\n",
    "#     All_boxes_link = driver.find_elements(By.CLASS_NAME, \"thumbnail\")\n",
    "#     for el in All_boxes_link:\n",
    "#         ppp1 = el.find_elements(By.TAG_NAME, \"h4\")[-1]\n",
    "#         ppp2 = ppp1.find_element(By.TAG_NAME, \"a\")\n",
    "#         listoflinks.append(ppp2.get_property('href'))\n",
    "#     try:\n",
    "#         driver.find_elements(By.CLASS_NAME, \"page-link\")[-1].click()\n",
    "#     except:\n",
    "#         condition = False"
   ]
  },
  {
   "cell_type": "code",
   "execution_count": null,
   "id": "ef56c76d",
   "metadata": {},
   "outputs": [],
   "source": [
    "# driver.find_elements(By.CLASS_NAME, \"page-link\").click()"
   ]
  },
  {
   "cell_type": "code",
   "execution_count": 1,
   "id": "e027957f",
   "metadata": {},
   "outputs": [
    {
     "data": {
      "text/plain": [
       "[<selenium.webdriver.remote.webelement.WebElement (session=\"efad4020ed5ad24668be900971ff3676\", element=\"66687031725E95CB3655EFE27A2234DD_element_47\")>,\n",
       " <selenium.webdriver.remote.webelement.WebElement (session=\"efad4020ed5ad24668be900971ff3676\", element=\"66687031725E95CB3655EFE27A2234DD_element_48\")>,\n",
       " <selenium.webdriver.remote.webelement.WebElement (session=\"efad4020ed5ad24668be900971ff3676\", element=\"66687031725E95CB3655EFE27A2234DD_element_49\")>,\n",
       " <selenium.webdriver.remote.webelement.WebElement (session=\"efad4020ed5ad24668be900971ff3676\", element=\"66687031725E95CB3655EFE27A2234DD_element_50\")>,\n",
       " <selenium.webdriver.remote.webelement.WebElement (session=\"efad4020ed5ad24668be900971ff3676\", element=\"66687031725E95CB3655EFE27A2234DD_element_51\")>,\n",
       " <selenium.webdriver.remote.webelement.WebElement (session=\"efad4020ed5ad24668be900971ff3676\", element=\"66687031725E95CB3655EFE27A2234DD_element_52\")>]"
      ]
     },
     "execution_count": 1,
     "metadata": {},
     "output_type": "execute_result"
    }
   ],
   "source": [
    "import selenium\n",
    "from selenium import webdriver\n",
    "from selenium.webdriver.common.by import By\n",
    "from selenium.webdriver.common.keys import Keys\n",
    "import time\n",
    "from selenium.webdriver.chrome.options import Options\n",
    "\n",
    "driver = webdriver.Chrome()\n",
    "driver.maximize_window()\n",
    "driver.get(\"https://webscraper.io/test-sites/e-commerce/static/\")\n",
    "\n",
    "open_link = driver.find_element(By.XPATH, '//*[@id=\"side-menu\"]/li[3]/a')\n",
    "open_link.click()\n",
    "\n",
    "click_laptop = driver.find_element(By.XPATH, '//*[@id=\"side-menu\"]/li[3]/ul/li[2]/a')\n",
    "click_laptop.click()\n",
    "\n",
    "All_boxes_link = driver.find_elements(By.CLASS_NAME, \"thumbnail\")\n",
    "All_boxes_link"
   ]
  },
  {
   "cell_type": "code",
   "execution_count": 6,
   "id": "d947db98",
   "metadata": {},
   "outputs": [
    {
     "data": {
      "text/plain": [
       "'$416.99\\nPackard 255 G2\\n15.6\", AMD E2-3800 1.3GHz, 4GB, 500GB, Windows 8.1'"
      ]
     },
     "execution_count": 6,
     "metadata": {},
     "output_type": "execute_result"
    }
   ],
   "source": [
    "all_info = driver.find_element(By.XPATH, \"//div[@class='caption']\").text\n",
    "all_info"
   ]
  },
  {
   "cell_type": "code",
   "execution_count": null,
   "id": "63a94383",
   "metadata": {},
   "outputs": [],
   "source": []
  },
  {
   "cell_type": "code",
   "execution_count": null,
   "id": "bffd445d",
   "metadata": {},
   "outputs": [],
   "source": []
  },
  {
   "cell_type": "code",
   "execution_count": null,
   "id": "b5ebbc03",
   "metadata": {},
   "outputs": [],
   "source": []
  },
  {
   "cell_type": "code",
   "execution_count": null,
   "id": "a3d2893f",
   "metadata": {},
   "outputs": [],
   "source": []
  },
  {
   "cell_type": "code",
   "execution_count": null,
   "id": "a2691016",
   "metadata": {},
   "outputs": [],
   "source": []
  },
  {
   "cell_type": "code",
   "execution_count": null,
   "id": "f4a9f26d",
   "metadata": {},
   "outputs": [],
   "source": []
  },
  {
   "cell_type": "code",
   "execution_count": null,
   "id": "45f6dda8",
   "metadata": {},
   "outputs": [],
   "source": []
  },
  {
   "cell_type": "code",
   "execution_count": null,
   "id": "da6b8937",
   "metadata": {},
   "outputs": [],
   "source": []
  },
  {
   "cell_type": "code",
   "execution_count": null,
   "id": "02bbc3fc",
   "metadata": {},
   "outputs": [],
   "source": []
  },
  {
   "cell_type": "code",
   "execution_count": null,
   "id": "aebe450c",
   "metadata": {},
   "outputs": [],
   "source": []
  },
  {
   "cell_type": "code",
   "execution_count": null,
   "id": "979afad0",
   "metadata": {},
   "outputs": [],
   "source": []
  },
  {
   "cell_type": "code",
   "execution_count": null,
   "id": "119d0fe0",
   "metadata": {},
   "outputs": [],
   "source": []
  },
  {
   "cell_type": "code",
   "execution_count": null,
   "id": "2103e618",
   "metadata": {},
   "outputs": [],
   "source": []
  },
  {
   "cell_type": "code",
   "execution_count": null,
   "id": "8a373bf4",
   "metadata": {},
   "outputs": [],
   "source": []
  },
  {
   "cell_type": "code",
   "execution_count": null,
   "id": "5103e3d9",
   "metadata": {},
   "outputs": [],
   "source": []
  },
  {
   "cell_type": "code",
   "execution_count": null,
   "id": "5ceef1b4",
   "metadata": {},
   "outputs": [],
   "source": []
  },
  {
   "cell_type": "code",
   "execution_count": null,
   "id": "ce8dab44",
   "metadata": {},
   "outputs": [],
   "source": []
  },
  {
   "cell_type": "code",
   "execution_count": null,
   "id": "7ba98030",
   "metadata": {},
   "outputs": [],
   "source": []
  },
  {
   "cell_type": "code",
   "execution_count": null,
   "id": "7039943f",
   "metadata": {},
   "outputs": [],
   "source": []
  },
  {
   "cell_type": "code",
   "execution_count": null,
   "id": "c0945fcd",
   "metadata": {},
   "outputs": [],
   "source": []
  },
  {
   "cell_type": "code",
   "execution_count": null,
   "id": "1bbf64cf",
   "metadata": {},
   "outputs": [],
   "source": []
  },
  {
   "cell_type": "code",
   "execution_count": null,
   "id": "af404d82",
   "metadata": {},
   "outputs": [],
   "source": []
  },
  {
   "cell_type": "code",
   "execution_count": null,
   "id": "2d12c371",
   "metadata": {},
   "outputs": [],
   "source": []
  },
  {
   "cell_type": "code",
   "execution_count": null,
   "id": "b6a6841a",
   "metadata": {},
   "outputs": [],
   "source": []
  },
  {
   "cell_type": "code",
   "execution_count": null,
   "id": "23b261a6",
   "metadata": {},
   "outputs": [],
   "source": []
  },
  {
   "cell_type": "code",
   "execution_count": null,
   "id": "ecbe748c",
   "metadata": {},
   "outputs": [],
   "source": []
  },
  {
   "cell_type": "code",
   "execution_count": null,
   "id": "707dc7bc",
   "metadata": {},
   "outputs": [],
   "source": []
  },
  {
   "cell_type": "code",
   "execution_count": null,
   "id": "c7e7a20b",
   "metadata": {},
   "outputs": [],
   "source": []
  },
  {
   "cell_type": "code",
   "execution_count": null,
   "id": "078d89e3",
   "metadata": {},
   "outputs": [],
   "source": []
  },
  {
   "cell_type": "code",
   "execution_count": null,
   "id": "609a004e",
   "metadata": {},
   "outputs": [],
   "source": []
  },
  {
   "cell_type": "code",
   "execution_count": null,
   "id": "5877e834",
   "metadata": {},
   "outputs": [],
   "source": []
  },
  {
   "cell_type": "code",
   "execution_count": null,
   "id": "7578d08e",
   "metadata": {},
   "outputs": [],
   "source": []
  },
  {
   "cell_type": "code",
   "execution_count": null,
   "id": "c364ec33",
   "metadata": {},
   "outputs": [],
   "source": []
  },
  {
   "cell_type": "code",
   "execution_count": null,
   "id": "b1d121c2",
   "metadata": {},
   "outputs": [],
   "source": []
  }
 ],
 "metadata": {
  "kernelspec": {
   "display_name": "Python 3 (ipykernel)",
   "language": "python",
   "name": "python3"
  },
  "language_info": {
   "codemirror_mode": {
    "name": "ipython",
    "version": 3
   },
   "file_extension": ".py",
   "mimetype": "text/x-python",
   "name": "python",
   "nbconvert_exporter": "python",
   "pygments_lexer": "ipython3",
   "version": "3.10.9"
  }
 },
 "nbformat": 4,
 "nbformat_minor": 5
}
